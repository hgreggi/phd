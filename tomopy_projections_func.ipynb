{
 "cells": [
  {
   "cell_type": "markdown",
   "metadata": {},
   "source": [
    "# 2023_11_30\n",
    "\n",
    "In the past few days I explored two ways of judging af the quality of a reconstruction: \n",
    "- using the variance of each z layer of the 3D reconstructed volume \n",
    "- or comparing (through a residual) virtual reprojections of the reconstruction with the projection that were used to reconstruct the volume in the first place.\n",
    "\n",
    "To carry the second type of quality estimation, I'm using the \"tomopy.sim.project\" function (available here: https://github.com/tomopy/tomopy/blob/master/source/tomopy/sim/project.py#L271)\n",
    "\n",
    "Since I was using it on the real data right away and was not sure of the outputs, Ale suggested to start simple with shapes of simple geometry - here are the images I generated: \n",
    "\n",
    "file:///home/3S-LAB/hgreggi/Documents/02_communication/00_tomopy_projection_func/image_1.png\n"
   ]
  }
 ],
 "metadata": {
  "language_info": {
   "name": "python"
  }
 },
 "nbformat": 4,
 "nbformat_minor": 2
}
